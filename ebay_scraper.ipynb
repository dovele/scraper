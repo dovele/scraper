{
  "nbformat": 4,
  "nbformat_minor": 0,
  "metadata": {
    "colab": {
      "name": "ebay-scraper",
      "provenance": [],
      "collapsed_sections": [],
      "authorship_tag": "ABX9TyNpbMJeVwdKkhFhgYCEZcLH",
      "include_colab_link": true
    },
    "kernelspec": {
      "name": "python3",
      "display_name": "Python 3"
    },
    "language_info": {
      "name": "python"
    }
  },
  "cells": [
    {
      "cell_type": "markdown",
      "metadata": {
        "id": "view-in-github",
        "colab_type": "text"
      },
      "source": [
        "<a href=\"https://colab.research.google.com/github/dovele/scraper/blob/main/ebay_scraper.ipynb\" target=\"_parent\"><img src=\"https://colab.research.google.com/assets/colab-badge.svg\" alt=\"Open In Colab\"/></a>"
      ]
    },
    {
      "cell_type": "code",
      "metadata": {
        "id": "5rl6f_ZNsGml"
      },
      "source": [
        "import pandas as pd\n",
        "import requests\n",
        "from bs4 import BeautifulSoup"
      ],
      "execution_count": null,
      "outputs": []
    },
    {
      "cell_type": "markdown",
      "metadata": {
        "id": "-DAaRzrdvIMC"
      },
      "source": [
        "# Scraping eBay"
      ]
    },
    {
      "cell_type": "code",
      "metadata": {
        "id": "_KYt94FbvE-E"
      },
      "source": [
        "def scrape_data(items_to_scrape, keywords):\n",
        "  \"\"\"\n",
        "  Scrapes ebay website for a number of samples for each keyword\n",
        "  \n",
        "  :param items_to_scrape: integer of items to scrape for each keyword.\n",
        "  :param keywords: list of keywords to scrape.\n",
        "  :return: pandas dataframe with the following columns:\n",
        "    Category (keyword), title, price, item url, image url.\n",
        "    \n",
        "  \"\"\"\n",
        "\n",
        "  data = {\"category\": [], \"item_title\": [], \"item_price\": [], \"item_url\": [], \"item_image\": []}\n",
        "  for keyword in keywords:\n",
        "    page_url = []\n",
        "    for i in range(1,round((items_to_scrape/203) + 1)):\n",
        "        page_url.append('https://www.ebay.com/sch/i.html?_from=R40&_nkw=' + keyword + '&_sacat=0&_ipg=192&_pgn=' + str(i))\n",
        "    # details of the info from the website\n",
        "    for links in page_url:\n",
        "      print(links)\n",
        "      response = requests.get(links)\n",
        "      soup = BeautifulSoup(response.content, 'html.parser')\n",
        "\n",
        "      \n",
        "      for title in soup.find_all('h3', { 'class': 's-item__title' }):\n",
        "        data[\"item_title\"].append(title.text)\n",
        "        data[\"category\"].append(keyword)\n",
        "      for price in soup.find_all('span', { 'class':\"s-item__price\" }):\n",
        "        data[\"item_price\"].append(price.text)\n",
        "      for url_of_item in soup.find_all('a', { 'class': 's-item__link' }):\n",
        "        data[\"item_url\"].append(url_of_item.get('href'))\n",
        "      for url_of_image in soup.find_all('img', { 'class': 's-item__image-img' }):\n",
        "        data[\"item_image\"].append(url_of_image['src'])\n",
        "    page_url.clear()\n",
        "\n",
        "  df = pd.DataFrame.from_dict(data, orient='index')\n",
        "  return df.transpose()"
      ],
      "execution_count": null,
      "outputs": []
    },
    {
      "cell_type": "code",
      "metadata": {
        "colab": {
          "base_uri": "https://localhost:8080/",
          "height": 1000
        },
        "id": "oxf5juInwnfX",
        "outputId": "299898d1-0a7e-44ae-8794-9b65aeae095d"
      },
      "source": [
        " scrape_data(3000, ['dress', 'bikini', 'sunglasses']) "
      ],
      "execution_count": null,
      "outputs": [
        {
          "output_type": "stream",
          "text": [
            "https://www.ebay.com/sch/i.html?_from=R40&_nkw=dress&_sacat=0&_ipg=192&_pgn=1\n",
            "https://www.ebay.com/sch/i.html?_from=R40&_nkw=dress&_sacat=0&_ipg=192&_pgn=2\n",
            "https://www.ebay.com/sch/i.html?_from=R40&_nkw=dress&_sacat=0&_ipg=192&_pgn=3\n",
            "https://www.ebay.com/sch/i.html?_from=R40&_nkw=dress&_sacat=0&_ipg=192&_pgn=4\n",
            "https://www.ebay.com/sch/i.html?_from=R40&_nkw=dress&_sacat=0&_ipg=192&_pgn=5\n",
            "https://www.ebay.com/sch/i.html?_from=R40&_nkw=dress&_sacat=0&_ipg=192&_pgn=6\n",
            "https://www.ebay.com/sch/i.html?_from=R40&_nkw=dress&_sacat=0&_ipg=192&_pgn=7\n",
            "https://www.ebay.com/sch/i.html?_from=R40&_nkw=dress&_sacat=0&_ipg=192&_pgn=8\n",
            "https://www.ebay.com/sch/i.html?_from=R40&_nkw=dress&_sacat=0&_ipg=192&_pgn=9\n",
            "https://www.ebay.com/sch/i.html?_from=R40&_nkw=dress&_sacat=0&_ipg=192&_pgn=10\n",
            "https://www.ebay.com/sch/i.html?_from=R40&_nkw=dress&_sacat=0&_ipg=192&_pgn=11\n",
            "https://www.ebay.com/sch/i.html?_from=R40&_nkw=dress&_sacat=0&_ipg=192&_pgn=12\n",
            "https://www.ebay.com/sch/i.html?_from=R40&_nkw=dress&_sacat=0&_ipg=192&_pgn=13\n",
            "https://www.ebay.com/sch/i.html?_from=R40&_nkw=dress&_sacat=0&_ipg=192&_pgn=14\n",
            "https://www.ebay.com/sch/i.html?_from=R40&_nkw=dress&_sacat=0&_ipg=192&_pgn=15\n",
            "https://www.ebay.com/sch/i.html?_from=R40&_nkw=bikini&_sacat=0&_ipg=192&_pgn=1\n",
            "https://www.ebay.com/sch/i.html?_from=R40&_nkw=bikini&_sacat=0&_ipg=192&_pgn=2\n",
            "https://www.ebay.com/sch/i.html?_from=R40&_nkw=bikini&_sacat=0&_ipg=192&_pgn=3\n",
            "https://www.ebay.com/sch/i.html?_from=R40&_nkw=bikini&_sacat=0&_ipg=192&_pgn=4\n",
            "https://www.ebay.com/sch/i.html?_from=R40&_nkw=bikini&_sacat=0&_ipg=192&_pgn=5\n",
            "https://www.ebay.com/sch/i.html?_from=R40&_nkw=bikini&_sacat=0&_ipg=192&_pgn=6\n",
            "https://www.ebay.com/sch/i.html?_from=R40&_nkw=bikini&_sacat=0&_ipg=192&_pgn=7\n",
            "https://www.ebay.com/sch/i.html?_from=R40&_nkw=bikini&_sacat=0&_ipg=192&_pgn=8\n",
            "https://www.ebay.com/sch/i.html?_from=R40&_nkw=bikini&_sacat=0&_ipg=192&_pgn=9\n",
            "https://www.ebay.com/sch/i.html?_from=R40&_nkw=bikini&_sacat=0&_ipg=192&_pgn=10\n",
            "https://www.ebay.com/sch/i.html?_from=R40&_nkw=bikini&_sacat=0&_ipg=192&_pgn=11\n",
            "https://www.ebay.com/sch/i.html?_from=R40&_nkw=bikini&_sacat=0&_ipg=192&_pgn=12\n",
            "https://www.ebay.com/sch/i.html?_from=R40&_nkw=bikini&_sacat=0&_ipg=192&_pgn=13\n",
            "https://www.ebay.com/sch/i.html?_from=R40&_nkw=bikini&_sacat=0&_ipg=192&_pgn=14\n",
            "https://www.ebay.com/sch/i.html?_from=R40&_nkw=bikini&_sacat=0&_ipg=192&_pgn=15\n",
            "https://www.ebay.com/sch/i.html?_from=R40&_nkw=sunglasses&_sacat=0&_ipg=192&_pgn=1\n",
            "https://www.ebay.com/sch/i.html?_from=R40&_nkw=sunglasses&_sacat=0&_ipg=192&_pgn=2\n",
            "https://www.ebay.com/sch/i.html?_from=R40&_nkw=sunglasses&_sacat=0&_ipg=192&_pgn=3\n",
            "https://www.ebay.com/sch/i.html?_from=R40&_nkw=sunglasses&_sacat=0&_ipg=192&_pgn=4\n",
            "https://www.ebay.com/sch/i.html?_from=R40&_nkw=sunglasses&_sacat=0&_ipg=192&_pgn=5\n",
            "https://www.ebay.com/sch/i.html?_from=R40&_nkw=sunglasses&_sacat=0&_ipg=192&_pgn=6\n",
            "https://www.ebay.com/sch/i.html?_from=R40&_nkw=sunglasses&_sacat=0&_ipg=192&_pgn=7\n",
            "https://www.ebay.com/sch/i.html?_from=R40&_nkw=sunglasses&_sacat=0&_ipg=192&_pgn=8\n",
            "https://www.ebay.com/sch/i.html?_from=R40&_nkw=sunglasses&_sacat=0&_ipg=192&_pgn=9\n",
            "https://www.ebay.com/sch/i.html?_from=R40&_nkw=sunglasses&_sacat=0&_ipg=192&_pgn=10\n",
            "https://www.ebay.com/sch/i.html?_from=R40&_nkw=sunglasses&_sacat=0&_ipg=192&_pgn=11\n",
            "https://www.ebay.com/sch/i.html?_from=R40&_nkw=sunglasses&_sacat=0&_ipg=192&_pgn=12\n",
            "https://www.ebay.com/sch/i.html?_from=R40&_nkw=sunglasses&_sacat=0&_ipg=192&_pgn=13\n",
            "https://www.ebay.com/sch/i.html?_from=R40&_nkw=sunglasses&_sacat=0&_ipg=192&_pgn=14\n",
            "https://www.ebay.com/sch/i.html?_from=R40&_nkw=sunglasses&_sacat=0&_ipg=192&_pgn=15\n"
          ],
          "name": "stdout"
        },
        {
          "output_type": "execute_result",
          "data": {
            "text/html": [
              "<div>\n",
              "<style scoped>\n",
              "    .dataframe tbody tr th:only-of-type {\n",
              "        vertical-align: middle;\n",
              "    }\n",
              "\n",
              "    .dataframe tbody tr th {\n",
              "        vertical-align: top;\n",
              "    }\n",
              "\n",
              "    .dataframe thead th {\n",
              "        text-align: right;\n",
              "    }\n",
              "</style>\n",
              "<table border=\"1\" class=\"dataframe\">\n",
              "  <thead>\n",
              "    <tr style=\"text-align: right;\">\n",
              "      <th></th>\n",
              "      <th>category</th>\n",
              "      <th>item_title</th>\n",
              "      <th>item_price</th>\n",
              "      <th>item_url</th>\n",
              "      <th>item_image</th>\n",
              "    </tr>\n",
              "  </thead>\n",
              "  <tbody>\n",
              "    <tr>\n",
              "      <th>0</th>\n",
              "      <td>dress</td>\n",
              "      <td></td>\n",
              "      <td>$35.74</td>\n",
              "      <td>https://www.ebay.com/itm/01920391?epid=2603981...</td>\n",
              "      <td>https://i.ebayimg.com/thumbs/images/g/mpYAAOSw...</td>\n",
              "    </tr>\n",
              "    <tr>\n",
              "      <th>1</th>\n",
              "      <td>dress</td>\n",
              "      <td>Nicole Miller Artelier VERYBERRY/CHERRY Color ...</td>\n",
              "      <td>$14.99</td>\n",
              "      <td>https://www.ebay.com/itm/114588060630?_trkparm...</td>\n",
              "      <td>https://i.ebayimg.com/thumbs/images/g/mdMAAOSw...</td>\n",
              "    </tr>\n",
              "    <tr>\n",
              "      <th>2</th>\n",
              "      <td>dress</td>\n",
              "      <td>Women Ultra High Slit Legs Nightgown Dress Lin...</td>\n",
              "      <td>$15.97</td>\n",
              "      <td>https://www.ebay.com/itm/362851067149?_trkparm...</td>\n",
              "      <td>https://i.ebayimg.com/thumbs/images/g/CrIAAOSw...</td>\n",
              "    </tr>\n",
              "    <tr>\n",
              "      <th>3</th>\n",
              "      <td>dress</td>\n",
              "      <td>Womens Casual Tunic Solid Long Sleeve Maxi Dre...</td>\n",
              "      <td>$5.33</td>\n",
              "      <td>https://www.ebay.com/itm/284380707602?_trkparm...</td>\n",
              "      <td>https://i.ebayimg.com/thumbs/images/g/uH8AAOSw...</td>\n",
              "    </tr>\n",
              "    <tr>\n",
              "      <th>4</th>\n",
              "      <td>dress</td>\n",
              "      <td>Kaftan Tunic Kimono Dress Ladies Summer Women ...</td>\n",
              "      <td>$6.93</td>\n",
              "      <td>https://www.ebay.com/itm/363500570835?_trkparm...</td>\n",
              "      <td>https://i.ebayimg.com/thumbs/images/g/GfMAAOSw...</td>\n",
              "    </tr>\n",
              "    <tr>\n",
              "      <th>...</th>\n",
              "      <td>...</td>\n",
              "      <td>...</td>\n",
              "      <td>...</td>\n",
              "      <td>...</td>\n",
              "      <td>...</td>\n",
              "    </tr>\n",
              "    <tr>\n",
              "      <th>2501</th>\n",
              "      <td>None</td>\n",
              "      <td>None</td>\n",
              "      <td>$125.00</td>\n",
              "      <td>None</td>\n",
              "      <td>None</td>\n",
              "    </tr>\n",
              "    <tr>\n",
              "      <th>2502</th>\n",
              "      <td>None</td>\n",
              "      <td>None</td>\n",
              "      <td>$298.73</td>\n",
              "      <td>None</td>\n",
              "      <td>None</td>\n",
              "    </tr>\n",
              "    <tr>\n",
              "      <th>2503</th>\n",
              "      <td>None</td>\n",
              "      <td>None</td>\n",
              "      <td>$300.04</td>\n",
              "      <td>None</td>\n",
              "      <td>None</td>\n",
              "    </tr>\n",
              "    <tr>\n",
              "      <th>2504</th>\n",
              "      <td>None</td>\n",
              "      <td>None</td>\n",
              "      <td>$139.99</td>\n",
              "      <td>None</td>\n",
              "      <td>None</td>\n",
              "    </tr>\n",
              "    <tr>\n",
              "      <th>2505</th>\n",
              "      <td>None</td>\n",
              "      <td>None</td>\n",
              "      <td>$64.99</td>\n",
              "      <td>None</td>\n",
              "      <td>None</td>\n",
              "    </tr>\n",
              "  </tbody>\n",
              "</table>\n",
              "<p>2506 rows × 5 columns</p>\n",
              "</div>"
            ],
            "text/plain": [
              "     category  ...                                         item_image\n",
              "0       dress  ...  https://i.ebayimg.com/thumbs/images/g/mpYAAOSw...\n",
              "1       dress  ...  https://i.ebayimg.com/thumbs/images/g/mdMAAOSw...\n",
              "2       dress  ...  https://i.ebayimg.com/thumbs/images/g/CrIAAOSw...\n",
              "3       dress  ...  https://i.ebayimg.com/thumbs/images/g/uH8AAOSw...\n",
              "4       dress  ...  https://i.ebayimg.com/thumbs/images/g/GfMAAOSw...\n",
              "...       ...  ...                                                ...\n",
              "2501     None  ...                                               None\n",
              "2502     None  ...                                               None\n",
              "2503     None  ...                                               None\n",
              "2504     None  ...                                               None\n",
              "2505     None  ...                                               None\n",
              "\n",
              "[2506 rows x 5 columns]"
            ]
          },
          "metadata": {
            "tags": []
          },
          "execution_count": 42
        }
      ]
    },
    {
      "cell_type": "markdown",
      "metadata": {
        "id": "wyu0UyJHvdZ_"
      },
      "source": [
        "# Connecting to Heroku and inserting scraped data into tables"
      ]
    },
    {
      "cell_type": "code",
      "metadata": {
        "id": "Xff7v52FvFrL"
      },
      "source": [
        "import psycopg2\n",
        "import pandas as pd\n",
        "\n",
        "def connect_database():\n",
        "    \"\"\"\n",
        "    Connection to work with the remote database on Heroku platform.\n",
        "    :return: connection\n",
        "    \"\"\"\n",
        "    connection = psycopg2.connect(\n",
        "      database=\"d9peu2e501rl36\",\n",
        "      user=\"ixlplailywcloj\",\n",
        "      password=\"be110b709e1f619238f50e817038e07b875dcdd90bbb631096ab3f5ba101390e\",\n",
        "      host=\"ec2-176-34-222-188.eu-west-1.compute.amazonaws.com\",\n",
        "      port=\"5432\"\n",
        "  )\n",
        "\n",
        "    return connection"
      ],
      "execution_count": null,
      "outputs": []
    },
    {
      "cell_type": "code",
      "metadata": {
        "id": "yJ0Ujj_XZAbX"
      },
      "source": [
        "def create_insert_table(df):\n",
        "    \"\"\"\n",
        "    Create tables and insert dataframe in database.\n",
        "    :return: None\n",
        "    \"\"\"\n",
        "    connection = connect_database()\n",
        "    cur = connection.cursor()\n",
        "\n",
        "    cur.execute('''\n",
        "        CREATE TABLE IF NOT EXISTS categories (\n",
        "            id serial PRIMARY KEY,\n",
        "            category VARCHAR(50)\n",
        "        );\n",
        "        ''')\n",
        "\n",
        "    cur.execute('''\n",
        "        CREATE TABLE IF NOT EXISTS ebay (\n",
        "        id serial PRIMARY KEY,\n",
        "        item_title varchar(10000),\n",
        "        item_price varchar(255),\n",
        "        item_url varchar(10000),\n",
        "        item_image varchar(10000),\n",
        "        category varchar(255)\n",
        "        );\n",
        "        ''')\n",
        "\n",
        "    #Get array of unique category names\n",
        "    unique_categories = df['category'].str.split(',').explode().unique().tolist()\n",
        "    cat = [i for i in range(1, len(unique_categories)+1)]\n",
        "    # Insert unique category names to the categories table\n",
        "    for i in cat:\n",
        "        cur.execute(f\"INSERT INTO categories (category) VALUES ('{i}');\")\n",
        "\n",
        "    # insert data df into ebay table\n",
        "    for index, row in df.iterrows():\n",
        "            cur.execute(\n",
        "                \"INSERT INTO ebay (item_title, item_price, item_url, item_image, category) values(%s, %s, %s, %s, %s)\",\n",
        "                (row.item_title, row.item_price, row.item_url, row.item_image, row.category),\n",
        "            )\n",
        "\n",
        "    connection.commit()\n",
        "\n",
        "def join_and_export():\n",
        "    \"\"\"\n",
        "    Execute query, fetch all the records and export it to CSV file.\n",
        "    :return: CSV file.\n",
        "    \"\"\"\n",
        "    connection = connect_database()\n",
        "    cur = connection.cursor()\n",
        "\n",
        "    cur.execute(\n",
        "            \"select categories.category, ebay.item_title, ebay.item_price, ebay.item_url, ebay.item_image from ebay LEFT JOIN categories on ebay.category = categories.category\"\n",
        "        )\n",
        "\n",
        "    df = pd.DataFrame(cur.fetchall())\n",
        "    df.to_csv('data.csv')"
      ],
      "execution_count": null,
      "outputs": []
    },
    {
      "cell_type": "code",
      "metadata": {
        "colab": {
          "base_uri": "https://localhost:8080/"
        },
        "id": "xC14NiJ5vFtY",
        "outputId": "f4c83490-b4cd-44ce-91a0-c2477dec3a72"
      },
      "source": [
        "create_insert_table(scrape_data(3000, ['dress', 'bikini', 'sunglasses']))"
      ],
      "execution_count": null,
      "outputs": [
        {
          "output_type": "stream",
          "text": [
            "https://www.ebay.com/sch/i.html?_from=R40&_nkw=dress&_sacat=0&_ipg=192&_pgn=1\n",
            "https://www.ebay.com/sch/i.html?_from=R40&_nkw=dress&_sacat=0&_ipg=192&_pgn=2\n",
            "https://www.ebay.com/sch/i.html?_from=R40&_nkw=dress&_sacat=0&_ipg=192&_pgn=3\n",
            "https://www.ebay.com/sch/i.html?_from=R40&_nkw=dress&_sacat=0&_ipg=192&_pgn=4\n",
            "https://www.ebay.com/sch/i.html?_from=R40&_nkw=dress&_sacat=0&_ipg=192&_pgn=5\n",
            "https://www.ebay.com/sch/i.html?_from=R40&_nkw=dress&_sacat=0&_ipg=192&_pgn=6\n",
            "https://www.ebay.com/sch/i.html?_from=R40&_nkw=dress&_sacat=0&_ipg=192&_pgn=7\n",
            "https://www.ebay.com/sch/i.html?_from=R40&_nkw=dress&_sacat=0&_ipg=192&_pgn=8\n",
            "https://www.ebay.com/sch/i.html?_from=R40&_nkw=dress&_sacat=0&_ipg=192&_pgn=9\n",
            "https://www.ebay.com/sch/i.html?_from=R40&_nkw=dress&_sacat=0&_ipg=192&_pgn=10\n",
            "https://www.ebay.com/sch/i.html?_from=R40&_nkw=dress&_sacat=0&_ipg=192&_pgn=11\n",
            "https://www.ebay.com/sch/i.html?_from=R40&_nkw=dress&_sacat=0&_ipg=192&_pgn=12\n",
            "https://www.ebay.com/sch/i.html?_from=R40&_nkw=dress&_sacat=0&_ipg=192&_pgn=13\n",
            "https://www.ebay.com/sch/i.html?_from=R40&_nkw=dress&_sacat=0&_ipg=192&_pgn=14\n",
            "https://www.ebay.com/sch/i.html?_from=R40&_nkw=dress&_sacat=0&_ipg=192&_pgn=15\n",
            "https://www.ebay.com/sch/i.html?_from=R40&_nkw=bikini&_sacat=0&_ipg=192&_pgn=1\n",
            "https://www.ebay.com/sch/i.html?_from=R40&_nkw=bikini&_sacat=0&_ipg=192&_pgn=2\n",
            "https://www.ebay.com/sch/i.html?_from=R40&_nkw=bikini&_sacat=0&_ipg=192&_pgn=3\n",
            "https://www.ebay.com/sch/i.html?_from=R40&_nkw=bikini&_sacat=0&_ipg=192&_pgn=4\n",
            "https://www.ebay.com/sch/i.html?_from=R40&_nkw=bikini&_sacat=0&_ipg=192&_pgn=5\n",
            "https://www.ebay.com/sch/i.html?_from=R40&_nkw=bikini&_sacat=0&_ipg=192&_pgn=6\n",
            "https://www.ebay.com/sch/i.html?_from=R40&_nkw=bikini&_sacat=0&_ipg=192&_pgn=7\n",
            "https://www.ebay.com/sch/i.html?_from=R40&_nkw=bikini&_sacat=0&_ipg=192&_pgn=8\n",
            "https://www.ebay.com/sch/i.html?_from=R40&_nkw=bikini&_sacat=0&_ipg=192&_pgn=9\n",
            "https://www.ebay.com/sch/i.html?_from=R40&_nkw=bikini&_sacat=0&_ipg=192&_pgn=10\n",
            "https://www.ebay.com/sch/i.html?_from=R40&_nkw=bikini&_sacat=0&_ipg=192&_pgn=11\n",
            "https://www.ebay.com/sch/i.html?_from=R40&_nkw=bikini&_sacat=0&_ipg=192&_pgn=12\n",
            "https://www.ebay.com/sch/i.html?_from=R40&_nkw=bikini&_sacat=0&_ipg=192&_pgn=13\n",
            "https://www.ebay.com/sch/i.html?_from=R40&_nkw=bikini&_sacat=0&_ipg=192&_pgn=14\n",
            "https://www.ebay.com/sch/i.html?_from=R40&_nkw=bikini&_sacat=0&_ipg=192&_pgn=15\n",
            "https://www.ebay.com/sch/i.html?_from=R40&_nkw=sunglasses&_sacat=0&_ipg=192&_pgn=1\n",
            "https://www.ebay.com/sch/i.html?_from=R40&_nkw=sunglasses&_sacat=0&_ipg=192&_pgn=2\n",
            "https://www.ebay.com/sch/i.html?_from=R40&_nkw=sunglasses&_sacat=0&_ipg=192&_pgn=3\n",
            "https://www.ebay.com/sch/i.html?_from=R40&_nkw=sunglasses&_sacat=0&_ipg=192&_pgn=4\n",
            "https://www.ebay.com/sch/i.html?_from=R40&_nkw=sunglasses&_sacat=0&_ipg=192&_pgn=5\n",
            "https://www.ebay.com/sch/i.html?_from=R40&_nkw=sunglasses&_sacat=0&_ipg=192&_pgn=6\n",
            "https://www.ebay.com/sch/i.html?_from=R40&_nkw=sunglasses&_sacat=0&_ipg=192&_pgn=7\n",
            "https://www.ebay.com/sch/i.html?_from=R40&_nkw=sunglasses&_sacat=0&_ipg=192&_pgn=8\n",
            "https://www.ebay.com/sch/i.html?_from=R40&_nkw=sunglasses&_sacat=0&_ipg=192&_pgn=9\n",
            "https://www.ebay.com/sch/i.html?_from=R40&_nkw=sunglasses&_sacat=0&_ipg=192&_pgn=10\n",
            "https://www.ebay.com/sch/i.html?_from=R40&_nkw=sunglasses&_sacat=0&_ipg=192&_pgn=11\n",
            "https://www.ebay.com/sch/i.html?_from=R40&_nkw=sunglasses&_sacat=0&_ipg=192&_pgn=12\n",
            "https://www.ebay.com/sch/i.html?_from=R40&_nkw=sunglasses&_sacat=0&_ipg=192&_pgn=13\n",
            "https://www.ebay.com/sch/i.html?_from=R40&_nkw=sunglasses&_sacat=0&_ipg=192&_pgn=14\n",
            "https://www.ebay.com/sch/i.html?_from=R40&_nkw=sunglasses&_sacat=0&_ipg=192&_pgn=15\n"
          ],
          "name": "stdout"
        }
      ]
    },
    {
      "cell_type": "code",
      "metadata": {
        "colab": {
          "base_uri": "https://localhost:8080/"
        },
        "id": "W7QzBBcNvFwt",
        "outputId": "3a19f3bd-7f0a-4600-c936-db511658753b"
      },
      "source": [
        "#Screenshot of a table in Heroku database\n",
        "![](https://drive.google.com/uc?export=view&id=1MurExPECblhA5uABvpEZFXL44ky7reMw)"
      ],
      "execution_count": null,
      "outputs": [
        {
          "output_type": "stream",
          "text": [
            "/bin/bash: -c: line 0: syntax error near unexpected token `https://drive.google.com/uc?export=view'\n",
            "/bin/bash: -c: line 0: `[](https://drive.google.com/uc?export=view&id=1MurExPECblhA5uABvpEZFXL44ky7reMw)'\n"
          ],
          "name": "stdout"
        }
      ]
    },
    {
      "cell_type": "code",
      "metadata": {
        "id": "bmDqRiclvFyl"
      },
      "source": [
        ""
      ],
      "execution_count": null,
      "outputs": []
    },
    {
      "cell_type": "code",
      "metadata": {
        "id": "UahcqEYOvF2a"
      },
      "source": [
        ""
      ],
      "execution_count": null,
      "outputs": []
    }
  ]
}