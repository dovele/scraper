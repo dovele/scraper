{
  "nbformat": 4,
  "nbformat_minor": 0,
  "metadata": {
    "colab": {
      "name": "ebay.ipynb",
      "provenance": [],
      "collapsed_sections": [],
      "authorship_tag": "ABX9TyNxaqosWiumzkSPd3cbTDGE",
      "include_colab_link": true
    },
    "kernelspec": {
      "name": "python3",
      "display_name": "Python 3"
    },
    "language_info": {
      "name": "python"
    }
  },
  "cells": [
    {
      "cell_type": "markdown",
      "metadata": {
        "id": "view-in-github",
        "colab_type": "text"
      },
      "source": [
        "<a href=\"https://colab.research.google.com/github/dovele/scraper/blob/main/ebay.ipynb\" target=\"_parent\"><img src=\"https://colab.research.google.com/assets/colab-badge.svg\" alt=\"Open In Colab\"/></a>"
      ]
    },
    {
      "cell_type": "code",
      "metadata": {
        "id": "ilqSX9P93cf7"
      },
      "source": [
        "import requests\n",
        "from bs4 import BeautifulSoup\n",
        "import pandas as pd\n",
        "import numpy as np\n",
        "import math\n",
        "from csv import reader\n",
        "import csv\n",
        "import re"
      ],
      "execution_count": 53,
      "outputs": []
    },
    {
      "cell_type": "code",
      "metadata": {
        "id": "7sJsIXeu31mI"
      },
      "source": [
        "headers = {'User-Agent':\n",
        "            'Mozilla/5.0 (X11; Linux x86_64) AppleWebKit/537.36 (KHTML, like Gecko) Chrome/44.0.2403.157 Safari/537.36',\n",
        "            'Accept-Language': 'en-US, en;q=0.5',\n",
        "            'Referer': 'https://google.com',\n",
        "            'DNT': '1'}"
      ],
      "execution_count": 54,
      "outputs": []
    },
    {
      "cell_type": "code",
      "metadata": {
        "id": "91Y7m9UY31n7"
      },
      "source": [
        "searchterm = 'sunglasses'\n",
        "page = range(0, 15)"
      ],
      "execution_count": 55,
      "outputs": []
    },
    {
      "cell_type": "code",
      "metadata": {
        "colab": {
          "base_uri": "https://localhost:8080/"
        },
        "id": "pvhsOFKv31sP",
        "outputId": "6e595c02-3990-4f5d-ed7c-4573e1da01ab"
      },
      "source": [
        "class Scraper:\n",
        "  def get_data(searchterm):\n",
        "      url = f'https://www.ebay.com/sch/i.html?_from=R40&_nkw={searchterm}&_sacat=0&_ipg=192&_pgn={page}'\n",
        "      r = requests.get(url, headers=headers)\n",
        "      soup = BeautifulSoup(r.text, 'html.parser')\n",
        "      return soup\n",
        "\n",
        "  def parse(soup):\n",
        "      productslist = []\n",
        "      results = soup.find_all('div', {'class': 's-item__wrapper clearfix'})\n",
        "      for item in results:\n",
        "          product = {\n",
        "              'category': item.find('span', {'class': 'SECONDARY_INFO'}),\n",
        "              'title': item.find('h3', {'class': 's-item__title'}).text,\n",
        "              'price': item.find('span', {'class': 's-item__price'}),\n",
        "              'image': item.find('img', {'class': 's-item__image-img'}),\n",
        "              'item': item.find('a')       \n",
        "          }\n",
        "          productslist.append(product)\n",
        "      return productslist\n",
        "\n",
        "  def output(productslist, searchterm):\n",
        "        productsdf =  pd.DataFrame(productslist)\n",
        "        productsdf.to_csv(searchterm + 'output.csv', index=False)\n",
        "        print('Saved to CSV')\n",
        "        return\n",
        "\n",
        "  soup = get_data(searchterm)\n",
        "  productslist = parse(soup)\n",
        "  output(productslist, searchterm)"
      ],
      "execution_count": 56,
      "outputs": [
        {
          "output_type": "stream",
          "text": [
            "Saved to CSV\n"
          ],
          "name": "stdout"
        }
      ]
    },
    {
      "cell_type": "code",
      "metadata": {
        "colab": {
          "base_uri": "https://localhost:8080/",
          "height": 589
        },
        "id": "8YpZ-8rUKpYz",
        "outputId": "0e0aae89-7829-429a-c098-288c8299df10"
      },
      "source": [
        "df_sunglasses = pd.read_csv('sunglassesoutput.csv')\n",
        "#df_bikini = pd.read_csv('bikinisoutput.csv')\n",
        "#df_dress = pd.read_csv('dressoutput.csv')\n",
        "df_sunglasses"
      ],
      "execution_count": 57,
      "outputs": [
        {
          "output_type": "execute_result",
          "data": {
            "text/html": [
              "<div>\n",
              "<style scoped>\n",
              "    .dataframe tbody tr th:only-of-type {\n",
              "        vertical-align: middle;\n",
              "    }\n",
              "\n",
              "    .dataframe tbody tr th {\n",
              "        vertical-align: top;\n",
              "    }\n",
              "\n",
              "    .dataframe thead th {\n",
              "        text-align: right;\n",
              "    }\n",
              "</style>\n",
              "<table border=\"1\" class=\"dataframe\">\n",
              "  <thead>\n",
              "    <tr style=\"text-align: right;\">\n",
              "      <th></th>\n",
              "      <th>category</th>\n",
              "      <th>title</th>\n",
              "      <th>price</th>\n",
              "      <th>image</th>\n",
              "      <th>item</th>\n",
              "    </tr>\n",
              "  </thead>\n",
              "  <tbody>\n",
              "    <tr>\n",
              "      <th>0</th>\n",
              "      <td>NaN</td>\n",
              "      <td>NaN</td>\n",
              "      <td>NaN</td>\n",
              "      <td>NaN</td>\n",
              "      <td>&lt;a _sp=\"p2351460.m1686.l7400\" class=\"s-item__l...</td>\n",
              "    </tr>\n",
              "    <tr>\n",
              "      <th>1</th>\n",
              "      <td>&lt;span class=\"SECONDARY_INFO\"&gt;Brand New&lt;/span&gt;</td>\n",
              "      <td>Gafas Lentes Oculos De Sol de Moda Fashion  Ri...</td>\n",
              "      <td>&lt;span class=\"s-item__price\"&gt;$11.99&lt;/span&gt;</td>\n",
              "      <td>&lt;img alt=\"Gafas Lentes Oculos De Sol de Moda F...</td>\n",
              "      <td>&lt;a _sp=\"p2351460.m1686.l7400\" aria-hidden=\"tru...</td>\n",
              "    </tr>\n",
              "    <tr>\n",
              "      <th>2</th>\n",
              "      <td>&lt;span class=\"SECONDARY_INFO\"&gt;Brand New&lt;/span&gt;</td>\n",
              "      <td>Sunglasses Polarized Mens Sport 4 PACK Color M...</td>\n",
              "      <td>&lt;span class=\"s-item__price\"&gt;$14.95&lt;/span&gt;</td>\n",
              "      <td>&lt;img alt=\"Sunglasses Polarized Mens Sport 4 PA...</td>\n",
              "      <td>&lt;a _sp=\"p2351460.m1686.l7400\" aria-hidden=\"tru...</td>\n",
              "    </tr>\n",
              "    <tr>\n",
              "      <th>3</th>\n",
              "      <td>&lt;span class=\"SECONDARY_INFO\"&gt;Brand New&lt;/span&gt;</td>\n",
              "      <td>New Polarized Outdoor Sports Eyewear Driving S...</td>\n",
              "      <td>&lt;span class=\"s-item__price\"&gt;$11.98&lt;/span&gt;</td>\n",
              "      <td>&lt;img alt=\"New Polarized Outdoor Sports Eyewear...</td>\n",
              "      <td>&lt;a _sp=\"p2351460.m1686.l7400\" aria-hidden=\"tru...</td>\n",
              "    </tr>\n",
              "    <tr>\n",
              "      <th>4</th>\n",
              "      <td>&lt;span class=\"SECONDARY_INFO\"&gt;Brand New&lt;/span&gt;</td>\n",
              "      <td>Fashion Pilot Polarized Sport Sunglasses Runni...</td>\n",
              "      <td>&lt;span class=\"s-item__price\"&gt;$8.23&lt;/span&gt;</td>\n",
              "      <td>&lt;img alt=\"Fashion Pilot Polarized Sport Sungla...</td>\n",
              "      <td>&lt;a _sp=\"p2351460.m1686.l7400\" aria-hidden=\"tru...</td>\n",
              "    </tr>\n",
              "    <tr>\n",
              "      <th>...</th>\n",
              "      <td>...</td>\n",
              "      <td>...</td>\n",
              "      <td>...</td>\n",
              "      <td>...</td>\n",
              "      <td>...</td>\n",
              "    </tr>\n",
              "    <tr>\n",
              "      <th>202</th>\n",
              "      <td>&lt;span class=\"SECONDARY_INFO\"&gt;Brand New&lt;/span&gt;</td>\n",
              "      <td>Bodine Polarized Sunglasses Sports Wrap Runnin...</td>\n",
              "      <td>&lt;span class=\"s-item__price\"&gt;$12.95&lt;/span&gt;</td>\n",
              "      <td>&lt;img alt=\"Bodine Polarized Sunglasses Sports W...</td>\n",
              "      <td>&lt;a _sp=\"p2351460.m1686.l7400\" aria-hidden=\"tru...</td>\n",
              "    </tr>\n",
              "    <tr>\n",
              "      <th>203</th>\n",
              "      <td>&lt;span class=\"SECONDARY_INFO\"&gt;Brand New&lt;/span&gt;</td>\n",
              "      <td>Aviator Sunglasses Extra Large Mirrored Lenses...</td>\n",
              "      <td>&lt;span class=\"s-item__price\"&gt;$10.95&lt;/span&gt;</td>\n",
              "      <td>&lt;img alt=\"Aviator Sunglasses Extra Large Mirro...</td>\n",
              "      <td>&lt;a _sp=\"p2351460.m1686.l7400\" aria-hidden=\"tru...</td>\n",
              "    </tr>\n",
              "    <tr>\n",
              "      <th>204</th>\n",
              "      <td>&lt;span class=\"SECONDARY_INFO\"&gt;Brand New&lt;/span&gt;</td>\n",
              "      <td>Men Aluminium HD Polarized Photochromic Sungla...</td>\n",
              "      <td>&lt;span class=\"s-item__price\"&gt;$11.99&lt;/span&gt;</td>\n",
              "      <td>&lt;img alt=\"Men Aluminium HD Polarized Photochro...</td>\n",
              "      <td>&lt;a _sp=\"p2351460.m1686.l7400\" aria-hidden=\"tru...</td>\n",
              "    </tr>\n",
              "    <tr>\n",
              "      <th>205</th>\n",
              "      <td>&lt;span class=\"SECONDARY_INFO\"&gt;Brand New&lt;/span&gt;</td>\n",
              "      <td>BIKER SUNGLASSES MENS SUPER DARK SUNGLASS 4 PA...</td>\n",
              "      <td>&lt;span class=\"s-item__price\"&gt;$11.95&lt;/span&gt;</td>\n",
              "      <td>&lt;img alt=\"BIKER SUNGLASSES MENS SUPER DARK SUN...</td>\n",
              "      <td>&lt;a _sp=\"p2351460.m1686.l7400\" aria-hidden=\"tru...</td>\n",
              "    </tr>\n",
              "    <tr>\n",
              "      <th>206</th>\n",
              "      <td>&lt;span class=\"SECONDARY_INFO\"&gt;Brand New&lt;/span&gt;</td>\n",
              "      <td>MENS SUNGLASSES SPORT WRAP STYLE ALL BLACK SUP...</td>\n",
              "      <td>&lt;span class=\"s-item__price\"&gt;$11.50&lt;/span&gt;</td>\n",
              "      <td>&lt;img alt=\"MENS SUNGLASSES SPORT WRAP STYLE ALL...</td>\n",
              "      <td>&lt;a _sp=\"p2351460.m1686.l7400\" aria-hidden=\"tru...</td>\n",
              "    </tr>\n",
              "  </tbody>\n",
              "</table>\n",
              "<p>207 rows × 5 columns</p>\n",
              "</div>"
            ],
            "text/plain": [
              "                                          category  ...                                               item\n",
              "0                                              NaN  ...  <a _sp=\"p2351460.m1686.l7400\" class=\"s-item__l...\n",
              "1    <span class=\"SECONDARY_INFO\">Brand New</span>  ...  <a _sp=\"p2351460.m1686.l7400\" aria-hidden=\"tru...\n",
              "2    <span class=\"SECONDARY_INFO\">Brand New</span>  ...  <a _sp=\"p2351460.m1686.l7400\" aria-hidden=\"tru...\n",
              "3    <span class=\"SECONDARY_INFO\">Brand New</span>  ...  <a _sp=\"p2351460.m1686.l7400\" aria-hidden=\"tru...\n",
              "4    <span class=\"SECONDARY_INFO\">Brand New</span>  ...  <a _sp=\"p2351460.m1686.l7400\" aria-hidden=\"tru...\n",
              "..                                             ...  ...                                                ...\n",
              "202  <span class=\"SECONDARY_INFO\">Brand New</span>  ...  <a _sp=\"p2351460.m1686.l7400\" aria-hidden=\"tru...\n",
              "203  <span class=\"SECONDARY_INFO\">Brand New</span>  ...  <a _sp=\"p2351460.m1686.l7400\" aria-hidden=\"tru...\n",
              "204  <span class=\"SECONDARY_INFO\">Brand New</span>  ...  <a _sp=\"p2351460.m1686.l7400\" aria-hidden=\"tru...\n",
              "205  <span class=\"SECONDARY_INFO\">Brand New</span>  ...  <a _sp=\"p2351460.m1686.l7400\" aria-hidden=\"tru...\n",
              "206  <span class=\"SECONDARY_INFO\">Brand New</span>  ...  <a _sp=\"p2351460.m1686.l7400\" aria-hidden=\"tru...\n",
              "\n",
              "[207 rows x 5 columns]"
            ]
          },
          "metadata": {
            "tags": []
          },
          "execution_count": 57
        }
      ]
    },
    {
      "cell_type": "markdown",
      "metadata": {
        "id": "P6ozr_cLJFhM"
      },
      "source": [
        "#Database\n",
        "app can be found at https://scraper-225.herokuapp.com/"
      ]
    },
    {
      "cell_type": "code",
      "metadata": {
        "id": "Ep5e6soJz6AZ",
        "colab": {
          "base_uri": "https://localhost:8080/"
        },
        "outputId": "a3c3c4f0-794c-4b09-a0f8-1a817c16d850"
      },
      "source": [
        "!pip install config\n",
        "!pip install psycopg2"
      ],
      "execution_count": 58,
      "outputs": [
        {
          "output_type": "stream",
          "text": [
            "Requirement already satisfied: config in /usr/local/lib/python3.7/dist-packages (0.5.0.post0)\n",
            "Requirement already satisfied: psycopg2 in /usr/local/lib/python3.7/dist-packages (2.7.6.1)\n"
          ],
          "name": "stdout"
        }
      ]
    },
    {
      "cell_type": "code",
      "metadata": {
        "id": "nALiwLBG-rhc",
        "colab": {
          "base_uri": "https://localhost:8080/"
        },
        "outputId": "8c5827b7-aafb-480f-b555-16d181c378fa"
      },
      "source": [
        "import config\n",
        "import psycopg2 \n",
        "from psycopg2 import connect\n",
        "\n",
        "connection = psycopg2.connect(\n",
        "    database=\"d9peu2e501rl36\",\n",
        "    user=\"ixlplailywcloj\",\n",
        "    password=\"be110b709e1f619238f50e817038e07b875dcdd90bbb631096ab3f5ba101390e\",\n",
        "    host=\"ec2-176-34-222-188.eu-west-1.compute.amazonaws.com\",\n",
        "    port=\"5432\"\n",
        ")\n",
        "\n",
        "connection"
      ],
      "execution_count": 59,
      "outputs": [
        {
          "output_type": "execute_result",
          "data": {
            "text/plain": [
              "<connection object at 0x7f9387abf190; dsn: 'user=ixlplailywcloj password=xxx dbname=d9peu2e501rl36 host=ec2-176-34-222-188.eu-west-1.compute.amazonaws.com port=5432', closed: 0>"
            ]
          },
          "metadata": {
            "tags": []
          },
          "execution_count": 59
        }
      ]
    },
    {
      "cell_type": "markdown",
      "metadata": {
        "id": "m_TrKC8XPCVQ"
      },
      "source": [
        "#Tables"
      ]
    },
    {
      "cell_type": "code",
      "metadata": {
        "id": "j4_DOm6R3cmM"
      },
      "source": [
        "cur = connection.cursor()\n",
        "\n",
        "cur.execute('''CREATE TABLE products (\n",
        "  id serial PRIMARY KEY, \n",
        "  category varchar(255), \n",
        "  title varchar(255), \n",
        "  price int, \n",
        "  image varchar(255), \n",
        "  item varchar(255)); ''')\n",
        "\n",
        "connection.commit()"
      ],
      "execution_count": 60,
      "outputs": []
    },
    {
      "cell_type": "code",
      "metadata": {
        "colab": {
          "base_uri": "https://localhost:8080/"
        },
        "id": "mRVLOnZud_F7",
        "outputId": "9111db73-475e-4db1-91fe-480e923f8f26"
      },
      "source": [
        "#Screenshot of the database in heroku\n",
        "https://drive.google.com/file/d/1wU5BTehYjQLY_iPZG543WW-5e-6-WyIn/view?usp=sharing"
      ],
      "execution_count": 63,
      "outputs": [
        {
          "output_type": "stream",
          "text": [
            "/bin/bash: -c: line 0: syntax error near unexpected token `https://drive.google.com/uc/1wU5BTehYjQLY_iPZG543WW-5e-6-WyIn/view?usp=sharing'\n",
            "/bin/bash: -c: line 0: `[picture](https://drive.google.com/uc/1wU5BTehYjQLY_iPZG543WW-5e-6-WyIn/view?usp=sharing)'\n"
          ],
          "name": "stdout"
        }
      ]
    },
    {
      "cell_type": "code",
      "metadata": {
        "id": "7LdoQOmzeodU"
      },
      "source": [
        ""
      ],
      "execution_count": null,
      "outputs": []
    }
  ]
}