{
  "nbformat": 4,
  "nbformat_minor": 0,
  "metadata": {
    "colab": {
      "name": "ebay.ipynb",
      "provenance": [],
      "collapsed_sections": [],
      "authorship_tag": "ABX9TyNk3rM0zaKPxO0U9WBKIfQT",
      "include_colab_link": true
    },
    "kernelspec": {
      "name": "python3",
      "display_name": "Python 3"
    },
    "language_info": {
      "name": "python"
    }
  },
  "cells": [
    {
      "cell_type": "markdown",
      "metadata": {
        "id": "view-in-github",
        "colab_type": "text"
      },
      "source": [
        "<a href=\"https://colab.research.google.com/github/dovele/scraper/blob/main/ebay.ipynb\" target=\"_parent\"><img src=\"https://colab.research.google.com/assets/colab-badge.svg\" alt=\"Open In Colab\"/></a>"
      ]
    },
    {
      "cell_type": "code",
      "metadata": {
        "id": "ilqSX9P93cf7"
      },
      "source": [
        "import requests\n",
        "from bs4 import BeautifulSoup\n",
        "import pandas as pd\n",
        "import numpy as np\n",
        "import math\n",
        "from csv import reader\n",
        "import re"
      ],
      "execution_count": 135,
      "outputs": []
    },
    {
      "cell_type": "code",
      "metadata": {
        "id": "7sJsIXeu31mI"
      },
      "source": [
        "headers = {'User-Agent':\n",
        "            'Mozilla/5.0 (X11; Linux x86_64) AppleWebKit/537.36 (KHTML, like Gecko) Chrome/44.0.2403.157 Safari/537.36',\n",
        "            'Accept-Language': 'en-US, en;q=0.5',\n",
        "            'Referer': 'https://google.com',\n",
        "            'DNT': '1'}"
      ],
      "execution_count": 136,
      "outputs": []
    },
    {
      "cell_type": "code",
      "metadata": {
        "id": "91Y7m9UY31n7"
      },
      "source": [
        "searchterm = 'sunglasses'"
      ],
      "execution_count": 137,
      "outputs": []
    },
    {
      "cell_type": "code",
      "metadata": {
        "colab": {
          "base_uri": "https://localhost:8080/"
        },
        "id": "pvhsOFKv31sP",
        "outputId": "4b1db167-a828-4eb8-912c-6caf724ff718"
      },
      "source": [
        "class Scraper:\n",
        "  def get_data(searchterm):\n",
        "      url = f'https://www.ebay.com/sch/i.html?_from=R40&_nkw={searchterm}&_sacat=0&_ipg=192&_pgn={page}'\n",
        "      r = requests.get(url, headers=headers)\n",
        "      soup = BeautifulSoup(r.text, 'html.parser')\n",
        "      return soup\n",
        "\n",
        "  def parse(soup):\n",
        "      productslist = []\n",
        "      results = soup.find_all('div', {'class': 's-item__wrapper clearfix'})\n",
        "      for item in results:\n",
        "          product = {\n",
        "              'category': item.find('span', {'class': 'SECONDARY_INFO'}),\n",
        "              'title': item.find('h3', {'class': 's-item__title'}).text,\n",
        "              'price': item.find('span', {'class': 's-item__price'}),\n",
        "              'image': item.find('img', {'class': 's-item__image-img'}),\n",
        "              'item': item.find('a')       \n",
        "          }\n",
        "          productslist.append(product)\n",
        "      return productslist\n",
        "\n",
        "  def output(productslist, searchterm):\n",
        "        productsdf =  pd.DataFrame(productslist)\n",
        "        productsdf.to_csv(searchterm + 'output.csv', index=False)\n",
        "        print('Saved to CSV')\n",
        "        return\n",
        "\n",
        "  soup = get_data(searchterm)\n",
        "  productslist = parse(soup)\n",
        "  output(productslist, searchterm)"
      ],
      "execution_count": 138,
      "outputs": [
        {
          "output_type": "stream",
          "text": [
            "Saved to CSV\n"
          ],
          "name": "stdout"
        }
      ]
    },
    {
      "cell_type": "code",
      "metadata": {
        "id": "8YpZ-8rUKpYz"
      },
      "source": [
        "df_sunglasses = pd.read_csv('sunglassesoutput.csv')\n",
        "#df_bikini = pd.read_csv('bikinisoutput.csv')\n",
        "#df_dress = pd.read_csv('dressoutput.csv')"
      ],
      "execution_count": 139,
      "outputs": []
    },
    {
      "cell_type": "markdown",
      "metadata": {
        "id": "P6ozr_cLJFhM"
      },
      "source": [
        "#Database\n",
        "app can be found at https://scraper-225.herokuapp.com/"
      ]
    },
    {
      "cell_type": "code",
      "metadata": {
        "id": "Ep5e6soJz6AZ",
        "colab": {
          "base_uri": "https://localhost:8080/"
        },
        "outputId": "be9df820-9faa-4b0a-f45d-f94479d45cb5"
      },
      "source": [
        "!pip install config\n",
        "!pip install psycopg2"
      ],
      "execution_count": 146,
      "outputs": [
        {
          "output_type": "stream",
          "text": [
            "Requirement already satisfied: config in /usr/local/lib/python3.7/dist-packages (0.5.0.post0)\n",
            "Requirement already satisfied: psycopg2 in /usr/local/lib/python3.7/dist-packages (2.7.6.1)\n"
          ],
          "name": "stdout"
        }
      ]
    },
    {
      "cell_type": "code",
      "metadata": {
        "id": "nALiwLBG-rhc",
        "colab": {
          "base_uri": "https://localhost:8080/"
        },
        "outputId": "a20d384d-e2b4-4467-e289-2043517e49f9"
      },
      "source": [
        "import config\n",
        "import psycopg2 \n",
        "from psycopg2 import connect\n",
        "\n",
        "connection = psycopg2.connect(\n",
        "    database=\"d9peu2e501rl36\",\n",
        "    user=\"ixlplailywcloj\",\n",
        "    password=\"be110b709e1f619238f50e817038e07b875dcdd90bbb631096ab3f5ba101390e\",\n",
        "    host=\"ec2-176-34-222-188.eu-west-1.compute.amazonaws.com\",\n",
        "    port=\"5432\"\n",
        ")\n",
        "\n",
        "connection"
      ],
      "execution_count": 148,
      "outputs": [
        {
          "output_type": "execute_result",
          "data": {
            "text/plain": [
              "<connection object at 0x7f3690d7e550; dsn: 'user=ixlplailywcloj password=xxx dbname=d9peu2e501rl36 host=ec2-176-34-222-188.eu-west-1.compute.amazonaws.com port=5432', closed: 0>"
            ]
          },
          "metadata": {
            "tags": []
          },
          "execution_count": 148
        }
      ]
    },
    {
      "cell_type": "markdown",
      "metadata": {
        "id": "m_TrKC8XPCVQ"
      },
      "source": [
        "#Tables"
      ]
    },
    {
      "cell_type": "code",
      "metadata": {
        "id": "j4_DOm6R3cmM"
      },
      "source": [
        ""
      ],
      "execution_count": null,
      "outputs": []
    }
  ]
}